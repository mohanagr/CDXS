{
 "cells": [
  {
   "cell_type": "code",
   "execution_count": 1,
   "metadata": {
    "collapsed": true
   },
   "outputs": [],
   "source": [
    "from scipy import special, integrate, real, imag\n",
    "import numpy as np\n",
    "import matplotlib.pyplot as plt"
   ]
  },
  {
   "cell_type": "code",
   "execution_count": 5,
   "metadata": {},
   "outputs": [
    {
     "name": "stdout",
     "output_type": "stream",
     "text": [
      "103.73153485608148\n",
      "gammarel [31.44826815 31.4482597  31.44825125 31.44824281 31.44823436 31.44822591\n",
      " 31.44821746 31.44820901 31.44820056 31.44819211 31.44818366 31.44817521\n",
      " 31.44816676 31.44815831 31.44814987 31.44814142 31.44813297 31.44812452\n",
      " 31.44811607 31.44810762 31.44809917 31.44809072 31.44808227 31.44807382\n",
      " 31.44806537 31.44805693 31.44804848 31.44804003 31.44803158 31.44802313\n",
      " 31.44801468 31.44800623 31.44799778 31.44798933 31.44798088 31.44797244\n",
      " 31.44796399 31.44795554 31.44794709 31.44793864 31.44793019 31.44792174\n",
      " 31.44791329 31.44790484 31.44789639 31.44788795 31.4478795  31.44787105\n",
      " 31.4478626  31.44785415 31.4478457  31.44783725 31.4478288  31.44782035\n",
      " 31.4478119  31.44780346 31.44779501 31.44778656 31.44777811 31.44776966\n",
      " 31.44776121 31.44775276 31.44774431 31.44773586 31.44772741 31.44771897\n",
      " 31.44771052 31.44770207 31.44769362 31.44768517 31.44767672 31.44766827\n",
      " 31.44765982 31.44765137 31.44764293 31.44763448 31.44762603 31.44761758\n",
      " 31.44760913 31.44760068 31.44759223 31.44758378 31.44757533 31.44756688\n",
      " 31.44755844 31.44754999 31.44754154 31.44753309 31.44752464 31.44751619\n",
      " 31.44750774 31.44749929 31.44749084 31.4474824  31.44747395 31.4474655\n",
      " 31.44745705 31.4474486  31.44744015 31.4474317  31.44742325 31.44741481\n",
      " 31.44740636 31.44739791 31.44738946 31.44738101 31.44737256 31.44736411\n",
      " 31.44735566 31.44734721 31.44733877 31.44733032 31.44732187 31.44731342\n",
      " 31.44730497 31.44729652 31.44728807 31.44727962 31.44727117 31.44726273\n",
      " 31.44725428 31.44724583 31.44723738 31.44722893 31.44722048 31.44721203\n",
      " 31.44720358 31.44719514 31.44718669 31.44717824 31.44716979 31.44716134\n",
      " 31.44715289 31.44714444 31.44713599 31.44712755 31.4471191  31.44711065\n",
      " 31.4471022  31.44709375 31.4470853  31.44707685 31.4470684  31.44705996\n",
      " 31.44705151 31.44704306 31.44703461 31.44702616 31.44701771 31.44700926\n",
      " 31.44700081 31.44699237 31.44698392 31.44697547 31.44696702 31.44695857\n",
      " 31.44695012 31.44694167 31.44693322 31.44692478 31.44691633 31.44690788\n",
      " 31.44689943 31.44689098 31.44688253 31.44687408 31.44686564 31.44685719\n",
      " 31.44684874 31.44684029 31.44683184 31.44682339 31.44681494 31.44680649\n",
      " 31.44679805 31.4467896  31.44678115 31.4467727  31.44676425 31.4467558\n",
      " 31.44674735 31.44673891 31.44673046 31.44672201 31.44671356 31.44670511\n",
      " 31.44669666 31.44668821 31.44667976 31.44667132 31.44666287 31.44665442\n",
      " 31.44664597 31.44663752 31.44662907 31.44662062 31.44661218 31.44660373\n",
      " 31.44659528 31.44658683 31.44657838 31.44656993 31.44656148 31.44655304\n",
      " 31.44654459 31.44653614 31.44652769 31.44651924 31.44651079 31.44650234\n",
      " 31.4464939  31.44648545 31.446477   31.44646855 31.4464601  31.44645165\n",
      " 31.4464432  31.44643476 31.44642631 31.44641786 31.44640941 31.44640096\n",
      " 31.44639251 31.44638406 31.44637562 31.44636717 31.44635872 31.44635027\n",
      " 31.44634182 31.44633337 31.44632493 31.44631648 31.44630803 31.44629958\n",
      " 31.44629113 31.44628268 31.44627423 31.44626579 31.44625734 31.44624889\n",
      " 31.44624044 31.44623199 31.44622354 31.44621509 31.44620665 31.4461982\n",
      " 31.44618975 31.4461813  31.44617285 31.4461644  31.44615596 31.44614751\n",
      " 31.44613906 31.44613061 31.44612216 31.44611371 31.44610527 31.44609682\n",
      " 31.44608837 31.44607992 31.44607147 31.44606302 31.44605457 31.44604613\n",
      " 31.44603768 31.44602923 31.44602078 31.44601233 31.44600388 31.44599544\n",
      " 31.44598699 31.44597854 31.44597009 31.44596164 31.44595319 31.44594475\n",
      " 31.4459363  31.44592785 31.4459194  31.44591095 31.4459025  31.44589406\n",
      " 31.44588561 31.44587716 31.44586871 31.44586026 31.44585181 31.44584336\n",
      " 31.44583492 31.44582647 31.44581802 31.44580957 31.44580112 31.44579267\n",
      " 31.44578423 31.44577578 31.44576733 31.44575888 31.44575043 31.44574198\n",
      " 31.44573354 31.44572509 31.44571664 31.44570819 31.44569974 31.44569129\n",
      " 31.44568285 31.4456744  31.44566595 31.4456575  31.44564905 31.44564061\n",
      " 31.44563216 31.44562371 31.44561526 31.44560681 31.44559836 31.44558992\n",
      " 31.44558147 31.44557302 31.44556457 31.44555612 31.44554767 31.44553923\n",
      " 31.44553078 31.44552233 31.44551388 31.44550543 31.44549698 31.44548854\n",
      " 31.44548009 31.44547164 31.44546319 31.44545474 31.4454463  31.44543785\n",
      " 31.4454294  31.44542095 31.4454125  31.44540405 31.44539561 31.44538716\n",
      " 31.44537871 31.44537026 31.44536181 31.44535337 31.44534492 31.44533647\n",
      " 31.44532802 31.44531957 31.44531112 31.44530268 31.44529423 31.44528578\n",
      " 31.44527733 31.44526888 31.44526044 31.44525199 31.44524354 31.44523509\n",
      " 31.44522664 31.44521819 31.44520975 31.4452013  31.44519285 31.4451844\n",
      " 31.44517595 31.44516751 31.44515906 31.44515061 31.44514216 31.44513371\n",
      " 31.44512526 31.44511682 31.44510837 31.44509992 31.44509147 31.44508302\n",
      " 31.44507458 31.44506613 31.44505768 31.44504923 31.44504078 31.44503234\n",
      " 31.44502389 31.44501544 31.44500699 31.44499854 31.4449901  31.44498165\n",
      " 31.4449732  31.44496475 31.4449563  31.44494785 31.44493941 31.44493096\n",
      " 31.44492251 31.44491406 31.44490561 31.44489717 31.44488872 31.44488027\n",
      " 31.44487182 31.44486337 31.44485493 31.44484648 31.44483803 31.44482958\n",
      " 31.44482113]\n"
     ]
    }
   ],
   "source": [
    "hcrsc = 197.326968 # MeV Fm\n",
    "finealpha = 1/137.0\n",
    "def getradius(mass):\n",
    "    return 1.236*(mass)**(1/3)\n",
    "\n",
    "def NgammaE1(Egamma, vi, Zt, bmin, a0):\n",
    "    \n",
    "    gammarel = (1.0 - vi**2)**(-0.5)     \n",
    "    print(\"gammarel\", gammarel)\n",
    "    xi = ( Egamma/(hcrsc*gammarel*vi) ) * (bmin+0.000001 + np.pi * a0 / (2 * gammarel))\n",
    "    \n",
    "    #print(xi)\n",
    "    NE1 = ( (2*finealpha*Zt**2*vi**2)/(np.pi) ) * (xi*special.kn(0, xi)*special.kn(1, xi) - (vi*xi)**2/2*(special.kn(1, xi)**2 - special.kn(0,xi)**2))\n",
    "    return NE1\n",
    "\n",
    "m = 931.5*np.array([19, 18, 1, 208]) # a, b, c and t MeV/c^2\n",
    "z = np.array([6, 6, 0, 82]) # a, b, c and t\n",
    "\n",
    "bmin = getradius(m[0]) + getradius(m[3])\n",
    "\n",
    "print(bmin)\n",
    "\n",
    "beamE = 67 #MeV/amu\n",
    "\n",
    "BE_bc = 0.53 #MeV\n",
    "\n",
    "Ebc = 0.01*np.arange(1, 410, 1, dtype='double')\n",
    "\n",
    "mu_ax = m[0]*m[3]/(m[0] + m[3])\n",
    "mu_bc = m[1]*m[2]/(m[1] + m[2])\n",
    "srel = (m[0]**2.0 + m[3]**2.0) + 2.0*m[3]*beamE*m[0]\n",
    "Eax = np.sqrt(srel) - m[0] - m[3] + mu_ax\n",
    "Pax = np.sqrt(Eax**2 - mu_ax**2)\n",
    "vi = Pax/Eax\n",
    "\n",
    "mA = m[0] + Ebc\n",
    "mu_Ax = mA*m[3]/(mA + m[3])\n",
    "EAx = np.sqrt(srel) - mA - m[3] + mu_ax\n",
    "PAx = np.sqrt(EAx**2 - mu_Ax**2)\n",
    "vf = PAx/EAx\n",
    "\n",
    "vsymm = np.sqrt(vi*vf)\n",
    "\n",
    "Egamma = BE_bc + Ebc\n",
    "\n",
    "a0 = z[0]*z[3]/(mu_ax * vsymm**2)\n",
    "\n",
    "NE1 = NgammaE1(Egamma, vsymm, z[3], bmin, a0)\n",
    "\n",
    "# plt.plot(Egamma, NE1)\n",
    "# plt.show()\n",
    "\n",
    "np.set_printoptions(precision=8)\n",
    "# print(Ebc)\n",
    "\n"
   ]
  },
  {
   "cell_type": "code",
   "execution_count": 3,
   "metadata": {
    "collapsed": true
   },
   "outputs": [],
   "source": [
    "# x = np.linspace(-1.0, 1.0, 1000)\n",
    "# plt.plot(x, x*special.kn(0,x)*special.kn(1, x))\n",
    "# plt.show()\n",
    "# #print(x)\n",
    "\n",
    "with open('nccapnr.in') as f:\n",
    "    inp = f.readlines()\n",
    "for i, line in enumerate(inp):\n",
    "    if(i==0):\n",
    "        ma, mt, mb, mc = [float(x) for x in line.split()]\n",
    "    if(i==1):\n",
    "        za, zt, zb, zc, Eau = [float(x) for x in line.split()]\n",
    "    if(i==2):\n",
    "        ja, jb, jc = [float(x) for x in line.split()]\n",
    "    if(i==3):\n",
    "        S_n, = [float(x) for x in line.split()]\n",
    "    if(i==4):\n",
    "        Elow, Ehigh, Einc = [float(x) for x in line.split()]\n"
   ]
  },
  {
   "cell_type": "code",
   "execution_count": 4,
   "metadata": {},
   "outputs": [
    {
     "data": {
      "image/png": "[encoded data removed]",
      "text/plain": [
       "<matplotlib.figure.Figure at 0x7f9e05105be0>"
      ]
     },
     "metadata": {},
     "output_type": "display_data"
    }
   ],
   "source": [
    "Erel = list()\n",
    "dsig = list()\n",
    "i = 0\n",
    "\n",
    "with open('cdcrs_2.6.dat') as f:\n",
    "    inp = f.readlines()\n",
    "\n",
    "for line in inp:\n",
    "    x, y = [float(i) for i in line.split()]\n",
    "    Erel.append(x)\n",
    "    dsig.append(y)\n",
    "# print(len(dsig))\n",
    "# plt.xlim(0, 4)\n",
    "# plt.ylim(2, 5)\n",
    "# plt.plot(Erel, dsig, 'r-')\n",
    "# plt.show()\n",
    "\n",
    "# print(NE1)\n",
    "\n",
    "sig_photo = Egamma*dsig/NE1 # kink disappears if Ebc instead of Egamma\n",
    "\n",
    "kgamma = Egamma/hcrsc\n",
    "kbc = np.sqrt(2.0*mu_bc*Ebc)/hcrsc\n",
    "sig_cap = sig_photo*2*(2*ja + 1)*kgamma**2/((2*jb + 1)*(2*jc + 1)*kbc**2)\n",
    "\n",
    "plt.plot(Ebc, sig_cap, 'r-')\n",
    "plt.show()\n",
    "\n"
   ]
  },
  {
   "cell_type": "code",
   "execution_count": 5,
   "metadata": {
    "collapsed": true
   },
   "outputs": [],
   "source": [
    "BE_bc = 0.53\n",
    "li = 0\n",
    "lf = 1\n",
    "Z = 6\n",
    "A = 19\n",
    "Zeff = -Z/A\n",
    "\n",
    "def clfgordn(l1, l2, ml1, ml2, j, mj):\n",
    "    pass\n",
    "\n",
    "def hankel(n, r, BE_bc):\n",
    "    a = np.sqrt(2.0*mu_bc*BE_bc)/(hcrsc)\n",
    "    z = i(a*r)\n",
    "    h = special.spherical_jn(n, z) + 1j*special.spherical_yn(n, z)\n",
    "    return h\n",
    "\n",
    "def phi_b(r, BE_bc):\n",
    "    a = np.sqrt(2.0*mu_bc*BE_bc)/(hcrsc)\n",
    "    Nb = np.sqrt(2*a**3)\n",
    "    return Nb*(-np.exp(-a*r)/a*r)\n",
    "\n",
    "def phi_c(r, Ec):\n",
    "    k = np.sqrt(2.0*mu_bc*Ec)/(hcrsc)\n",
    "    return np.sqrt(2.0*mu_bc*k/(hcrsc**2*np.pi)) * (np.sin(k*r)/((k*r)**2) - np.cos(k*r)/(k*r))\n",
    "\n",
    "\n",
    "def quad_eval(BE_bc, Ec):\n",
    "    # Evaluate quad integration\n",
    "    # BE_bc and Ec are SCALARS\n",
    "    # -------------------------\n",
    "    a = np.sqrt(2.0*mu_bc*BE_bc)/(hcrsc)\n",
    "    k = np.sqrt(2.0*mu_bc*Ec)/(hcrsc)\n",
    "    def integrand(r):\n",
    "        const1 = np.sqrt(2.0*mu_bc*k/(np.pi * hcrsc**2))\n",
    "        const2 = np.sqrt(2*a**3) # Nb\n",
    "        f = const1 * const2 * ( r*np.cos(k*r)/k - np.sin(k*r)/(k**2) ) * (np.exp(-a*r)/a)\n",
    "        return f\n",
    "\n",
    "    #     print(\"Ec is, \", Ec)\n",
    "    real_intg = integrate.quad(integrand, 0, np.inf)\n",
    "    dBdE = (0.75 * Zeff**2 / np.pi) * np.absolute(real_intg[0])**2\n",
    "\n",
    "    return dBdE\n",
    "\n",
    "def calc_Ec_intg(BE):\n",
    "    \n",
    "    def integrand(Ec):\n",
    "        f = quad_eval(BE, Ec)\n",
    "        return f\n",
    "    \n",
    "    real_intg = integrate.quad(integrand, 0.001, 2)\n",
    "    BE1 = real_intg[0]\n",
    "    \n",
    "    return BE1\n",
    "        \n",
    "\n",
    "def calc_diff_TP(BE, Ec_arr):\n",
    "    dBdE_arr = np.array([])\n",
    "    for E in Ec_arr:\n",
    "        dBdE_arr = np.append(dBdE_arr, quad_eval(BE, E))\n",
    "    return dBdE_arr\n",
    "    \n",
    "def calc_TP(BE_arr, Ec_arr):\n",
    "    # Calculate Transition probability, B(E1)\n",
    "    # -----------------------------------------------------\n",
    "    # print(Econti)\n",
    "        \n",
    "    BE1 = np.array([])   #array of BindingE values\n",
    "\n",
    "    for be in BE_arr:\n",
    "        \n",
    "        #METHOD 1\n",
    "#         dBdE_arr = calc_diff_TP(be, Ec_arr)\n",
    "#         y = integrate.simps(dBdE_arr, be+Ec_arr)\n",
    "        #METHOD 2\n",
    "        y = calc_Ec_intg(be)\n",
    "        BE1 = np.append(BE1, y)\n",
    "    #print(\"Binding Energ:- \", BE_bc)\n",
    "    \n",
    "    plt.plot(BE_arr, BE1)\n",
    "    plt.show()\n",
    "    \n",
    "\n",
    "#------------------------------------------------------------------------------\n",
    "# def integrand(r, Ec):\n",
    "#     a = np.sqrt(2.0*mu_bc*BE_bc)/(hcrsc**2.0)\n",
    "#     phi_b = hankel(li, 1j*a*r)\n",
    "#     k = np.sqrt(2.0*mu_bc*Ec)/(hcrsc**2.0)\n",
    "#     phi_c = np.sqrt(2.0*mu_bc*k/(hcrsc**2*np.pi))*special.spherical_jn(lf, k*r)\n",
    "    \n",
    "#     f = phi_b*phi_c*r**3.0\n",
    "    \n",
    "#     return f\n",
    "\n",
    "\n",
    "    \n",
    "# def complex_quadrature(func, a, b, *args, **kwargs):\n",
    "#     def real_func(x):\n",
    "#         return np.real(func(x, *args))\n",
    "#     def imag_func(x):\n",
    "#         return np.imag(func(x, *args))\n",
    "#     real_integral = integrate.quad(real_func, a, b, **kwargs)\n",
    "#     imag_integral = integrate.quad(imag_func, a, b, **kwargs)\n",
    "#     return (real_integral[0] + 1j*imag_integral[0], real_integral[1:], imag_integral[1:])\n",
    "# #     mod = np.sqrt(real_integral[0]**2 + imag_integral[0]**2)\n",
    "    \n",
    "# #     return mod\n",
    "# complex_quadrature(integrand, 0, 100, Ec)"
   ]
  },
  {
   "cell_type": "code",
   "execution_count": 6,
   "metadata": {},
   "outputs": [
    {
     "data": {
      "image/png": "[encoded data removed]",
      "text/plain": [
       "<matplotlib.figure.Figure at 0x7fa363b0b438>"
      ]
     },
     "metadata": {},
     "output_type": "display_data"
    }
   ],
   "source": [
    "Ec = np.linspace(0.001,2,100)\n",
    "y = calc_diff_TP(0.53,Ec)\n",
    "plt.ylim([0, 1])\n",
    "plt.plot(Ec, y, 'b-')\n",
    "plt.xlabel('Ec (MeV)')\n",
    "plt.ylabel('dB(E1)/dE')\n",
    "plt.show()\n",
    " # Correction factor of the order 2"
   ]
  },
  {
   "cell_type": "code",
   "execution_count": 7,
   "metadata": {
    "collapsed": true
   },
   "outputs": [],
   "source": [
    "BEarr = np.linspace(0.09, 1.5, 50)\n",
    "# y = calc_TP(BEarr, Ec)\n",
    "\n",
    "# print(BEarr)\n",
    "y = list()\n",
    "for e in BEarr:\n",
    "    out = calc_Ec_intg(e)\n",
    "    y.append(out)\n",
    "y = np.array(y)"
   ]
  },
  {
   "cell_type": "code",
   "execution_count": 8,
   "metadata": {},
   "outputs": [
    {
     "data": {
      "image/png": "[encoded data removed]",
      "text/plain": [
       "<matplotlib.figure.Figure at 0x7fa3619bdcc0>"
      ]
     },
     "metadata": {},
     "output_type": "display_data"
    }
   ],
   "source": [
    "font = {'family': 'serif',\n",
    "        'color':  'darkred',\n",
    "        'weight': 'normal',\n",
    "        'size': 25\n",
    "        }\n",
    "\n",
    "plt.figure(figsize=(6,6))\n",
    "plt.ylim([0, 3.5])\n",
    "plt.xlim([0, 1.5])\n",
    "plt.xlabel('Eb (MeV)')\n",
    "plt.ylabel('B(E1) in e2fm2')\n",
    "plt.plot(BEarr, y, 'g-')\n",
    "plt.grid('on')\n",
    "plt.text(0.4, 2.6, '19 C', fontdict=font)\n",
    "plt.show()"
   ]
  },
  {
   "cell_type": "code",
   "execution_count": 9,
   "metadata": {
    "collapsed": true
   },
   "outputs": [],
   "source": [
    "def db(BE_bc, Ec, li, lf):\n",
    "    \n",
    "    # THIS IS USING ANALYTICAL FORMULAS\n",
    "\n",
    "#     print(av)\n",
    "\n",
    "\n",
    "\n",
    "#     const = 2.5 * Zeff**2 * 3 * hcrsc**2/(np.pi**2 * mu_bc)\n",
    "#     fac = np.sqrt(BE_bc) * Ec**(3/2) / (Ec + BE_bc)**4\n",
    "#     ret = const * fac    k = np.sqrt(2.0*mu_bc*Ec)/hcrsc\n",
    "    a = np.sqrt(2.0*mu_bc*BE_bc)/hcrsc\n",
    "    k = np.sqrt(2.0*mu_bc*Ec)/(hcrsc)\n",
    "    ai = (li+lf+4)/2\n",
    "    b = (lf-li+3)/2\n",
    "    c = lf+3/2\n",
    "    z = -k**2/a**2\n",
    "    Zeff = 6/19\n",
    "    \n",
    "    gammafactor = special.gamma(ai)*special.gamma(b)/special.gamma(c)\n",
    "    const = 2.0 * np.sqrt(2 * a**3) * ( k**(lf+0.5) / a**(lf+4) )\n",
    "    \n",
    "    ret = const*gammafactor*special.hyp2f1(ai,b,c,z)\n",
    "    ret = (0.75 / np.pi) * Zeff**2 * ret**2.0\n",
    "#     print(mu_bc)\n",
    "    return ret\n",
    "    "
   ]
  },
  {
   "cell_type": "code",
   "execution_count": 12,
   "metadata": {
    "collapsed": true
   },
   "outputs": [],
   "source": [
    "Ec = np.linspace(0.001, 4, 1000)\n",
    "li = 0\n",
    "lf = 1\n",
    "y_diff = db(0.53, Ec, li, lf)\n",
    "y_diff2 = calc_diff_TP(0.53,Ec)"
   ]
  },
  {
   "cell_type": "code",
   "execution_count": 13,
   "metadata": {},
   "outputs": [
    {
     "data": {
      "image/png": "[encoded data removed]",
      "text/plain": [
       "<matplotlib.figure.Figure at 0x7fa361922588>"
      ]
     },
     "metadata": {},
     "output_type": "display_data"
    }
   ],
   "source": [
    "plt.plot(Ec, y_diff, 'b-', Ec, y_diff2*35.5, 'r-')\n",
    "plt.title(\"DIfferential transition probability\")\n",
    "plt.xlabel(\"Ec (continuum energies)\")\n",
    "plt.ylabel(\"dB(E1)/dE (in e^2fm^2/MeV)\")\n",
    "plt.grid('on')\n",
    "plt.show()"
   ]
  },
  {
   "cell_type": "code",
   "execution_count": 14,
   "metadata": {
    "collapsed": true
   },
   "outputs": [],
   "source": [
    "def radcap(Ebc, BE_bc, dBdE):\n",
    "    \n",
    "    Egamma = Ebc + BE_bc\n",
    "    \n",
    "    kgamma = Egamma/hcrsc\n",
    "    kbc = np.sqrt(2.0*mu_bc*Ebc)/hcrsc\n",
    "    \n",
    "    sig_photo = 2 * (2*np.pi)**3 * (kgamma) * dBdE / (9)\n",
    "\n",
    "    sig_cap = sig_photo*2*(2*ja + 1)*kgamma**2/((2*jb + 1)*(2*jc + 1)*kbc**2)\n",
    "    \n",
    "    return sig_cap\n",
    "    "
   ]
  },
  {
   "cell_type": "code",
   "execution_count": 15,
   "metadata": {},
   "outputs": [
    {
     "data": {
      "image/png": "[encoded data removed]",
      "text/plain": [
       "<matplotlib.figure.Figure at 0x7fa361934668>"
      ]
     },
     "metadata": {},
     "output_type": "display_data"
    }
   ],
   "source": [
    "yplot = radcap(Ec, 0.53, y_diff2)\n",
    "plt.plot(Ec, yplot, 'b-')\n",
    "plt.grid('on')\n",
    "plt.show()"
   ]
  },
  {
   "cell_type": "code",
   "execution_count": null,
   "metadata": {
    "collapsed": true
   },
   "outputs": [],
   "source": []
  },
  {
   "cell_type": "code",
   "execution_count": null,
   "metadata": {
    "collapsed": true
   },
   "outputs": [],
   "source": [
    "np.arange(0,2 ,0.001)"
   ]
  },
  {
   "cell_type": "code",
   "execution_count": 17,
   "metadata": {},
   "outputs": [
    {
     "data": {
      "text/plain": [
       "nan"
      ]
     },
     "execution_count": 17,
     "metadata": {},
     "output_type": "execute_result"
    }
   ],
   "source": [
    "special.hyp2f1(-1, -8, -16, 2.0)"
   ]
  },
  {
   "cell_type": "code",
   "execution_count": 16,
   "metadata": {},
   "outputs": [
    {
     "data": {
      "text/plain": [
       "'1.0.1'"
      ]
     },
     "execution_count": 16,
     "metadata": {},
     "output_type": "execute_result"
    }
   ],
   "source": [
    "import scipy\n",
    "scipy.__version__"
   ]
  },
  {
   "cell_type": "code",
   "execution_count": null,
   "metadata": {
    "collapsed": true
   },
   "outputs": [],
   "source": [
    "phi_b(0, 0.53)"
   ]
  },
  {
   "cell_type": "code",
   "execution_count": null,
   "metadata": {
    "collapsed": true
   },
   "outputs": [],
   "source": [
    "r = np.linspace(0, 1, 100)\n",
    "h = hankel(1, r)"
   ]
  },
  {
   "cell_type": "code",
   "execution_count": null,
   "metadata": {
    "collapsed": true
   },
   "outputs": [],
   "source": []
  }
 ],
 "metadata": {
  "kernelspec": {
   "display_name": "Python 3",
   "language": "python",
   "name": "python3"
  },
  "language_info": {
   "codemirror_mode": {
    "name": "ipython",
    "version": 3
   },
   "file_extension": ".py",
   "mimetype": "text/x-python",
   "name": "python",
   "nbconvert_exporter": "python",
   "pygments_lexer": "ipython3",
   "version": "3.5.2"
  }
 },
 "nbformat": 4,
 "nbformat_minor": 2
}
